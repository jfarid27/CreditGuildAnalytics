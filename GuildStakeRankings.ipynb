{
 "cells": [
  {
   "cell_type": "code",
   "execution_count": null,
   "metadata": {},
   "outputs": [],
   "source": [
    "import os\n",
    "import json\n",
    "from ape import networks\n",
    "import pandas as pd\n",
    "import matplotlib.pyplot as plt\n",
    "from CreditGuild.controllers.GuildTokenHolders import fetch_holders\n",
    "from CreditGuild.controllers.ActiveLendingTerms import fetch_terms_and_debt, fetch_users_stakes\n",
    "\n",
    "\n",
    "with open('CreditGuild/addresses.json', 'r') as file:\n",
    "    addresses = json.load(file)\n",
    "\n",
    "guild_token_address = addresses.get('token_address')\n",
    "top_addresses = addresses.get('top_addresses')\n",
    "stake_minters = addresses.get('stake_minters')\n",
    "\n",
    "top_addresses_df = pd.DataFrame(top_addresses)\n"
   ]
  },
  {
   "cell_type": "code",
   "execution_count": null,
   "metadata": {},
   "outputs": [],
   "source": [
    "holders_data = None\n",
    "holders_csv_file_path = \"data/credit_guild_guild_token_holders.csv\"\n",
    "if os.path.exists(holders_csv_file_path ):\n",
    "    holders_data = pd.read_csv(holders_csv_file_path, header=0)\n",
    "\n",
    "with networks.parse_network_choice(\"arbitrum:mainnet:infura\") as provider:\n",
    "    if holders_data is None:\n",
    "        str_addresses = [address[\"address\"] for address in top_addresses]\n",
    "        holders_data = fetch_holders(str_addresses, guild_token_address)\n",
    "        holders_data.to_csv(holders_csv_file_path, index=False, header=True)\n",
    "\n",
    "holder_balances = pd.merge(holders_data, top_addresses_df, on=\"address\", how=\"inner\")"
   ]
  },
  {
   "cell_type": "code",
   "execution_count": null,
   "metadata": {},
   "outputs": [],
   "source": [
    "terms_data = None\n",
    "terms_debt_csv_file_path = 'data/credit_guild_terms_debt.csv'\n",
    "if os.path.exists(terms_debt_csv_file_path):\n",
    "    terms_data = pd.read_csv(terms_debt_csv_file_path)\n",
    "\n",
    "with networks.parse_network_choice(\"arbitrum:mainnet:infura\") as provider:\n",
    "    terms_data = terms_data if not terms_data is None else fetch_terms_and_debt(guild_token_address)\n",
    "    terms_data.to_csv(terms_debt_csv_file_path, index=False, header=True)"
   ]
  },
  {
   "cell_type": "code",
   "execution_count": null,
   "metadata": {},
   "outputs": [],
   "source": [
    "user_stakes_csv_file_path = 'data/credit_guild_user_stakes.csv'\n",
    "\n",
    "merged_staking = pd.merge(terms_data, pd.DataFrame(stake_minters), on=\"creditToken\", how=\"inner\")\n",
    "\n",
    "users_stakes = None\n",
    "if os.path.exists(user_stakes_csv_file_path):\n",
    "    users_stakes = pd.read_csv(user_stakes_csv_file_path, header=0)\n",
    "\n",
    "with networks.parse_network_choice(\"arbitrum:mainnet:infura\") as provider:\n",
    "    if users_stakes is None:\n",
    "        users_stakes = fetch_users_stakes(top_addresses_df, merged_staking, slow=True)\n",
    "    users_stakes.to_csv(user_stakes_csv_file_path, index=False, header=True)"
   ]
  },
  {
   "cell_type": "code",
   "execution_count": null,
   "metadata": {},
   "outputs": [],
   "source": [
    "holder_balances['balance'] = pd.to_numeric(holder_balances['balance'], errors='coerce')\n",
    "holder_balances = holder_balances.sort_values(by='balance', ascending=False)\n",
    "holder_balances.plot(kind='bar', x='nickname', y='balance', legend=True)\n",
    "\n",
    "# Add labels and title\n",
    "plt.xlabel('Name')\n",
    "plt.ylabel('Value')\n",
    "plt.title('Guild Token Top Holders')\n",
    "\n",
    "# Display the plot\n",
    "plt.show()"
   ]
  },
  {
   "cell_type": "code",
   "execution_count": null,
   "metadata": {},
   "outputs": [],
   "source": []
  }
 ],
 "metadata": {
  "kernelspec": {
   "display_name": "Python 3 (ipykernel)",
   "language": "python",
   "name": "python3"
  },
  "language_info": {
   "codemirror_mode": {
    "name": "ipython",
    "version": 3
   },
   "file_extension": ".py",
   "mimetype": "text/x-python",
   "name": "python",
   "nbconvert_exporter": "python",
   "pygments_lexer": "ipython3",
   "version": "3.12.4"
  }
 },
 "nbformat": 4,
 "nbformat_minor": 2
}
