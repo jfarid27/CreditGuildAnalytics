{
 "cells": [
  {
   "cell_type": "code",
   "execution_count": 1,
   "metadata": {},
   "outputs": [],
   "source": [
    "import os\n",
    "from ape import networks\n",
    "import pandas as pd\n",
    "import matplotlib.pyplot as plt\n",
    "from controllers.CreditGuild.GuildTokenHolders import fetch_holders\n",
    "from controllers.CreditGuild.ActiveLendingTerms import fetch_terms_and_debt, fetch_users_stakes\n",
    "\n",
    "\n",
    "guild_token_address = \"0xb8ae64f191f829fc00a4e923d460a8f2e0ba3978\"\n",
    "top_addresses = [\n",
    "    {\"address\": \"0xa8c42bbb0648511cc9004fbdcf0fa365088f862b\", \"nickname\": \"Golden Phoenix\"},\n",
    "    {\"address\": \"0x6b0e55f66add3861ffaa1e7137fa659abe530b8d\", \"nickname\": \"Hunter\"},\n",
    "    {\"address\": \"0x46822e4246a4a414459a2fda91467ce96408f1bc\", \"nickname\": \"Maker\"},\n",
    "    {\"address\": \"0x0092737a698399f35b611b72c461ee59be39b56c\", \"nickname\": \"Shadow\"},\n",
    "    {\"address\": \"0x3170bd1144e67e4f146a22a1307c1d10b9f4ab81\", \"nickname\": \"Ancient\"},\n",
    "    {\"address\": \"0x7bfee91193d9df2ac0bfe90191d40f23c773c060\", \"nickname\": \"Anon (Punk 2498)\"},\n",
    "    {\"address\": \"0x10bf1dcb5ab7860bab1c3320163c6dddf8dcc0e4\", \"nickname\": \"0x10bf1dcb5\"},\n",
    "    {\"address\": \"0x432dcbda06e8b296ca29705572d7cb6315ed8bed\", \"nickname\": \"0xNigiri\"},\n",
    "    {\"address\": \"0xbdfa4f4492dd7b7cf211209c4791af8d52bf5c50\", \"nickname\": \"bizyugo\"},\n",
    "    {\"address\": \"0xa2cdbd966a50fca31df26c7ac78ecfed1c77c42f\", \"nickname\": \"0xa2cdbd966\"}\n",
    "]\n",
    "\n",
    "top_addresses_df = pd.DataFrame(top_addresses)\n",
    "\n",
    "holders_data = None\n",
    "\n",
    "holders_csv_file_path = \"data/credit_guild_guild_token_holders.csv\"\n",
    "if os.path.exists(holders_csv_file_path ):\n",
    "    holders_data = pd.read_csv(holders_csv_file_path, header=0)\n",
    "\n",
    "with networks.parse_network_choice(\"arbitrum:mainnet:infura\") as provider:\n",
    "    if holders_data is None:\n",
    "        str_addresses = [address[\"address\"] for address in top_addresses]\n",
    "        holders_data = fetch_holders(str_addresses, guild_token_address)\n",
    "        holders_data.to_csv(holders_csv_file_path, index=False, header=True)\n",
    "\n",
    "holder_balances = pd.merge(holders_data, top_addresses_df, on=\"address\", how=\"inner\")"
   ]
  },
  {
   "cell_type": "code",
   "execution_count": 2,
   "metadata": {},
   "outputs": [],
   "source": [
    "terms_debt_csv_file_path = 'data/credit_guild_terms_debt.csv'\n",
    "\n",
    "terms_data = None\n",
    "if os.path.exists(terms_debt_csv_file_path):\n",
    "    terms_data = pd.read_csv(terms_debt_csv_file_path)\n",
    "\n",
    "with networks.parse_network_choice(\"arbitrum:mainnet:infura\") as provider:\n",
    "    terms_data = terms_data if not terms_data is None else fetch_terms_and_debt(guild_token_address)\n",
    "    terms_data.to_csv(terms_debt_csv_file_path, index=False, header=True)"
   ]
  },
  {
   "cell_type": "code",
   "execution_count": 3,
   "metadata": {},
   "outputs": [
    {
     "name": "stdout",
     "output_type": "stream",
     "text": [
      "Empty DataFrame\n",
      "Columns: []\n",
      "Index: []\n",
      "True\n",
      "Empty DataFrame\n",
      "Columns: []\n",
      "Index: []\n",
      "True\n",
      "Empty DataFrame\n",
      "Columns: []\n",
      "Index: []\n",
      "True\n",
      "Empty DataFrame\n",
      "Columns: []\n",
      "Index: []\n",
      "True\n",
      "Empty DataFrame\n",
      "Columns: []\n",
      "Index: []\n",
      "True\n",
      "Empty DataFrame\n",
      "Columns: []\n",
      "Index: []\n",
      "True\n",
      "Empty DataFrame\n",
      "Columns: []\n",
      "Index: []\n",
      "True\n",
      "Empty DataFrame\n",
      "Columns: []\n",
      "Index: []\n",
      "True\n",
      "Empty DataFrame\n",
      "Columns: []\n",
      "Index: []\n",
      "True\n",
      "Empty DataFrame\n",
      "Columns: []\n",
      "Index: []\n",
      "True\n",
      "                                  termAddress  \\\n",
      "0  0x0fd5310653872C770EaB4217c99059553D7dedE5   \n",
      "1  0x846eD2994b75d16aa80cE282077cd5Ce7B1E8ee2   \n",
      "\n",
      "                                  creditToken  \\\n",
      "0  0xaFBe44E79E9affB25CEd16D971933219d1d6EC8d   \n",
      "1  0xaFBe44E79E9affB25CEd16D971933219d1d6EC8d   \n",
      "\n",
      "                           surplusGuildMinter  userStake  \n",
      "0  0x55ab4c8a5f11f8e62d7822d5aed778784df12afd   6.932592  \n",
      "1  0x55ab4c8a5f11f8e62d7822d5aed778784df12afd   4.020000  \n",
      "False\n",
      "2\n",
      "                                  termAddress  \\\n",
      "0  0x0fd5310653872C770EaB4217c99059553D7dedE5   \n",
      "\n",
      "                                  creditToken  \\\n",
      "0  0xaFBe44E79E9affB25CEd16D971933219d1d6EC8d   \n",
      "\n",
      "                           surplusGuildMinter  userStake  \n",
      "0  0x55ab4c8a5f11f8e62d7822d5aed778784df12afd   7.620895  \n",
      "False\n",
      "3\n"
     ]
    }
   ],
   "source": [
    "user_stakes_csv_file_path = 'data/credit_guild_user_stakes.csv'\n",
    "\n",
    "stake_minters = [\n",
    "    {\"surplusGuildMinter\": \"0xb94aaae7472a694dd959c8497b2f09730391dc52\", \"creditToken\": \"0xD5FD8456aa96aAA07c23605e9a8d2ce5f737F145\"},\n",
    "    {\"surplusGuildMinter\": \"0x55ab4c8a5f11f8e62d7822d5aed778784df12afd\", \"creditToken\": \"0xaFBe44E79E9affB25CEd16D971933219d1d6EC8d\"},\n",
    "    {\"surplusGuildMinter\": \"0x6995aa07b177918423d2127b885b67e7a3cec265\", \"creditToken\": \"0x8D8b654E2B6A0289D8f758cBCCc42aB387c67B61\"},\n",
    "    {\"surplusGuildMinter\": \"0x71215ac6faf015aea177675543a8635beb08d183\", \"creditToken\": \"0x4139724fCB5E27d9F13Be9928E4436a32d12E00b\"},\n",
    "    {\"surplusGuildMinter\": \"0xaa5bb0ffbfabec29a0df298b4b6a1a8e24cfe17e\", \"creditToken\": \"0x2170eea4D493e53e835d59f8aC559D007bC9A527\"},\n",
    "    {\"surplusGuildMinter\": \"0x7c171a82f73e9c030cf9133606d883883c826acb\", \"creditToken\": \"0x808831eC837534E28A24097122875A6eE39C6A38\"},\n",
    "    {\"surplusGuildMinter\": \"0x72c0a3d34aabd20db73a38c494f6e6be503f4a5b\", \"creditToken\": \"0x63Bebf6E5152ddeF1445e24B456f8128a9Fda7fc\"},\n",
    "    {\"surplusGuildMinter\": \"0x0d81cf2515c02a7cdbd110c41e8dce2bb1983962\", \"creditToken\": \"0xb6CC9BbD136Bde153c380a987EF6b365bA9f7669\"}\n",
    "]\n",
    "\n",
    "merged_staking = pd.merge(terms_data, pd.DataFrame(stake_minters), on=\"creditToken\", how=\"inner\")\n",
    "\n",
    "users_stakes = None\n",
    "if os.path.exists(user_stakes_csv_file_path):\n",
    "    users_stakes = pd.read_csv(user_stakes_csv_file_path, header=0)\n",
    "\n",
    "with networks.parse_network_choice(\"arbitrum:mainnet:infura\") as provider:\n",
    "    if users_stakes is None:\n",
    "        users_stakes = fetch_users_stakes(top_addresses_df, merged_staking, slow=True)\n",
    "    users_stakes.to_csv(user_stakes_csv_file_path, index=False, header=True)"
   ]
  },
  {
   "cell_type": "code",
   "execution_count": 6,
   "metadata": {},
   "outputs": [
    {
     "name": "stdout",
     "output_type": "stream",
     "text": [
      "                                  termAddress  \\\n",
      "0  0x0fd5310653872C770EaB4217c99059553D7dedE5   \n",
      "1  0x846eD2994b75d16aa80cE282077cd5Ce7B1E8ee2   \n",
      "2  0x0fd5310653872C770EaB4217c99059553D7dedE5   \n",
      "\n",
      "                                  creditToken  \\\n",
      "0  0xaFBe44E79E9affB25CEd16D971933219d1d6EC8d   \n",
      "1  0xaFBe44E79E9affB25CEd16D971933219d1d6EC8d   \n",
      "2  0xaFBe44E79E9affB25CEd16D971933219d1d6EC8d   \n",
      "\n",
      "                           surplusGuildMinter  userStake  \\\n",
      "0  0x55ab4c8a5f11f8e62d7822d5aed778784df12afd   6.932592   \n",
      "1  0x55ab4c8a5f11f8e62d7822d5aed778784df12afd   4.020000   \n",
      "2  0x55ab4c8a5f11f8e62d7822d5aed778784df12afd   7.620895   \n",
      "\n",
      "                                      address  \n",
      "0  0x703A1BE86986A333B02f6c4a85eeB0ddEd23b1b8  \n",
      "1  0x703A1BE86986A333B02f6c4a85eeB0ddEd23b1b8  \n",
      "2  0x38312022f5c24dd257777f981075fffd20233e19  \n"
     ]
    }
   ],
   "source": [
    "print(users_stakes)"
   ]
  },
  {
   "cell_type": "code",
   "execution_count": null,
   "metadata": {},
   "outputs": [
    {
     "data": {
      "image/png": "[encoded data removed]",
      "text/plain": [
       "<Figure size 640x480 with 1 Axes>"
      ]
     },
     "metadata": {},
     "output_type": "display_data"
    }
   ],
   "source": [
    "\n",
    "holder_balances['balance'] = pd.to_numeric(holder_balances['balance'], errors='coerce')\n",
    "holder_balances = holder_balances.sort_values(by='balance', ascending=False)\n",
    "holder_balances.plot(kind='bar', x='nickname', y='balance', legend=True)\n",
    "\n",
    "# Add labels and title\n",
    "plt.xlabel('Name')\n",
    "plt.ylabel('Value')\n",
    "plt.title('Guild Token Top Holders')\n",
    "\n",
    "# Display the plot\n",
    "plt.show()"
   ]
  },
  {
   "cell_type": "code",
   "execution_count": null,
   "metadata": {},
   "outputs": [],
   "source": []
  }
 ],
 "metadata": {
  "kernelspec": {
   "display_name": "Python 3 (ipykernel)",
   "language": "python",
   "name": "python3"
  },
  "language_info": {
   "codemirror_mode": {
    "name": "ipython",
    "version": 3
   },
   "file_extension": ".py",
   "mimetype": "text/x-python",
   "name": "python",
   "nbconvert_exporter": "python",
   "pygments_lexer": "ipython3",
   "version": "3.12.4"
  }
 },
 "nbformat": 4,
 "nbformat_minor": 2
}
